{
  "nbformat": 4,
  "nbformat_minor": 0,
  "metadata": {
    "colab": {
      "provenance": []
    },
    "kernelspec": {
      "name": "python3",
      "display_name": "Python 3"
    },
    "language_info": {
      "name": "python"
    }
  },
  "cells": [
    {
      "cell_type": "code",
      "execution_count": null,
      "metadata": {
        "id": "T6yvpvtJmxll"
      },
      "outputs": [],
      "source": [
        "!pip install -qU llama_index sqlalchemy pandas\n",
        "!pip install openai"
      ]
    },
    {
      "cell_type": "markdown",
      "source": [
        "Importing required libraries"
      ],
      "metadata": {
        "id": "lzTQEUcmnIve"
      }
    },
    {
      "cell_type": "code",
      "source": [
        "from google.colab import userdata\n",
        "import openai\n",
        "import os\n",
        "import pandas as pd\n",
        "from sqlalchemy import create_engine\n",
        "from llama_index import SQLDatabase\n",
        "from llama_index.llms import OpenAI\n",
        "from llama_index.embeddings import OpenAIEmbedding\n",
        "from llama_index import ServiceContext\n",
        "from llama_index.indices.struct_store.sql_query import NLSQLTableQueryEngine\n",
        "from llama_index.tools.query_engine import QueryEngineTool\n",
        "from llama_index.agent import OpenAIAgent\n"
      ],
      "metadata": {
        "id": "6gG09fuVnE1M"
      },
      "execution_count": 7,
      "outputs": []
    },
    {
      "cell_type": "code",
      "source": [
        "# os.environ['OPENAI_API_KEY']=userdata.get('OPENAI_API_KEY')\n",
        "# openai_api_key= userdata.get('OPENAI_API_KEY')"
      ],
      "metadata": {
        "id": "W4XLoI1ZoWfJ"
      },
      "execution_count": null,
      "outputs": []
    },
    {
      "cell_type": "code",
      "source": [
        "df = pd.read_csv(\"/content/data.csv\",encoding='latin1')"
      ],
      "metadata": {
        "id": "niphIMvSo8Ob"
      },
      "execution_count": 9,
      "outputs": []
    },
    {
      "cell_type": "code",
      "source": [
        "df.head()\n"
      ],
      "metadata": {
        "id": "r4WxYH0kpyXM"
      },
      "execution_count": null,
      "outputs": []
    },
    {
      "cell_type": "markdown",
      "source": [
        "Create SQLAlchemy engine with SQLlite and convert dataframe into SQL tables"
      ],
      "metadata": {
        "id": "6T_sgjkMqehA"
      }
    },
    {
      "cell_type": "code",
      "source": [
        "engine = create_engine('sqlite://',echo=False)\n",
        "df.to_sql('reviews', con=engine)"
      ],
      "metadata": {
        "colab": {
          "base_uri": "https://localhost:8080/"
        },
        "id": "ZiCYiKUHqn9A",
        "outputId": "c7df3b8b-2186-44ad-c1ef-a2ac47f5d663"
      },
      "execution_count": 13,
      "outputs": [
        {
          "output_type": "execute_result",
          "data": {
            "text/plain": [
              "301296"
            ]
          },
          "metadata": {},
          "execution_count": 13
        }
      ]
    },
    {
      "cell_type": "code",
      "source": [
        "reviews_db= SQLDatabase(engine,include_tables=['reviews'])"
      ],
      "metadata": {
        "id": "KdMNoh6Tq6xo"
      },
      "execution_count": 14,
      "outputs": []
    },
    {
      "cell_type": "markdown",
      "source": [
        "Instantiate the LLM and servicecontext"
      ],
      "metadata": {
        "id": "gbphv_9TuJK9"
      }
    },
    {
      "cell_type": "code",
      "source": [
        "llm = OpenAI(model_name=\"gpt-4-0613\",\n",
        "             temperature=0,\n",
        "             streaming=True)\n",
        "embedding =OpenAIEmbedding()\n",
        "servicecontext= ServiceContext.from_defaults(llm=llm,\n",
        "                                             embed_model=embedding,\n",
        "                                             chunk_size=500)"
      ],
      "metadata": {
        "id": "KOOSWeWkt_d7"
      },
      "execution_count": 16,
      "outputs": []
    },
    {
      "cell_type": "code",
      "source": [
        "sql_query_engine = NLSQLTableQueryEngine(sql_database=reviews_db,\n",
        "                                         tables=['reviews'],\n",
        "                                         service_context=servicecontext)"
      ],
      "metadata": {
        "id": "QyK1CLamu5ci"
      },
      "execution_count": 17,
      "outputs": []
    },
    {
      "cell_type": "code",
      "source": [
        "description = (\"Provides details information\")"
      ],
      "metadata": {
        "id": "4GnlI0cvwp4Y"
      },
      "execution_count": 18,
      "outputs": []
    },
    {
      "cell_type": "code",
      "source": [
        "sql_tool = QueryEngineTool.from_defaults(query_engine=sql_query_engine,\n",
        "                                         name=\"sql_query\",\n",
        "                                         description=description)\n",
        "\n",
        "agent= OpenAIAgent.from_tools(tools=[sql_tool],verbose=True)"
      ],
      "metadata": {
        "id": "kOq35OqRwH7y"
      },
      "execution_count": 20,
      "outputs": []
    },
    {
      "cell_type": "markdown",
      "source": [
        "Generate the response, you can write your input in the brackets to get the response"
      ],
      "metadata": {
        "id": "JxmZvo1RxI8L"
      }
    },
    {
      "cell_type": "code",
      "source": [
        "response = agent.chat(\"How many unique countries are there\")"
      ],
      "metadata": {
        "id": "UqL4CMn4wzUx"
      },
      "execution_count": null,
      "outputs": []
    }
  ]
}